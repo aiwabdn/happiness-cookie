{
 "cells": [
  {
   "cell_type": "markdown",
   "metadata": {},
   "source": [
    "# Gated Linear Networks\n",
    "## Implementations in NumPy, PyTorch, TensorFlow and JAX\n",
    "\n",
    "Python implementations of new family of neural networks from DeepMind's paper on [GLN](https://arxiv.org/pdf/1910.01526.pdf)\n",
    "\n",
    "## TL;DR\n",
    "\n",
    "We will look at the NumPy API. The other implementations have the same flow.\n",
    "\n",
    "To define a GLN and have it trained on MNIST data."
   ]
  },
  {
   "cell_type": "code",
   "execution_count": 1,
   "metadata": {},
   "outputs": [],
   "source": [
    "from gln_numpy import GLN\n",
    "from test_mnist import get_mnist_metrics\n",
    "\n",
    "model = GLN(layer_sizes=[4, 4, 1], input_size=784, context_size=784)"
   ]
  },
  {
   "cell_type": "markdown",
   "metadata": {},
   "source": [
    "Assuming one batch of random inputs like MNIST data"
   ]
  },
  {
   "cell_type": "code",
   "execution_count": 2,
   "metadata": {},
   "outputs": [],
   "source": [
    "import numpy as np\n",
    "\n",
    "train_X = np.random.normal(size=(784, 4))\n",
    "context_inputs = train_X\n",
    "train_Y = np.array([0, 1, 1, 0])"
   ]
  },
  {
   "cell_type": "markdown",
   "metadata": {},
   "source": [
    "we can train the GLN (predict and update) in one step with"
   ]
  },
  {
   "cell_type": "code",
   "execution_count": 3,
   "metadata": {},
   "outputs": [],
   "source": [
    "output = model.predict(inputs=train_X, context_inputs=context_inputs, targets=train_Y)"
   ]
  },
  {
   "cell_type": "markdown",
   "metadata": {},
   "source": [
    "To predict with the model, we just omit the `targets` parameter."
   ]
  },
  {
   "cell_type": "code",
   "execution_count": 4,
   "metadata": {
    "tags": []
   },
   "outputs": [
    {
     "output_type": "stream",
     "name": "stdout",
     "text": "[0.14558098 0.92031338 0.92967196 0.14376964]\n"
    }
   ],
   "source": [
    "pred = model.predict(inputs=train_X, context_inputs=context_inputs)\n",
    "print(pred)"
   ]
  },
  {
   "cell_type": "markdown",
   "metadata": {},
   "source": [
    "To check that the model is learning, we can pass the same batch a few times to see the outputs get better."
   ]
  },
  {
   "cell_type": "code",
   "execution_count": 5,
   "metadata": {
    "tags": []
   },
   "outputs": [
    {
     "output_type": "stream",
     "name": "stdout",
     "text": "After iteration 1 [0.14558098 0.92031338 0.92967196 0.14376964]\nAfter iteration 2 [0.1276787  0.9298401  0.93720979 0.12630932]\nAfter iteration 3 [0.11318972 0.93737909 0.94335443 0.11212472]\nAfter iteration 4 [0.10120459 0.94352606 0.94847533 0.10035937]\nAfter iteration 5 [0.09113055 0.94864886 0.95281605 0.09044939]\n"
    }
   ],
   "source": [
    "for i in range(5):\n",
    "    output = model.predict(inputs=train_X, context_inputs=context_inputs, targets=train_Y)\n",
    "    print('After iteration {}'.format(i+1), output)"
   ]
  }
 ],
 "metadata": {
  "language_info": {
   "codemirror_mode": {
    "name": "ipython",
    "version": 3
   },
   "file_extension": ".py",
   "mimetype": "text/x-python",
   "name": "python",
   "nbconvert_exporter": "python",
   "pygments_lexer": "ipython3",
   "version": "3.8.2-final"
  },
  "orig_nbformat": 2,
  "kernelspec": {
   "name": "python38264bitscrabbleconda997c24ac097a4ece945246645d076769",
   "display_name": "Python 3.8.2 64-bit ('scrabble': conda)"
  }
 },
 "nbformat": 4,
 "nbformat_minor": 2
}