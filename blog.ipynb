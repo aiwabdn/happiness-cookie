{
 "cells": [
  {
   "cell_type": "markdown",
   "metadata": {},
   "source": [
    "# Gated Linear Networks\n",
    "\n",
    "This blogpost presents intuition and experimental results for Gated Linear Networks, a new family of neural networks introduced by DeepMind in a [recent paper](https://arxiv.org/pdf/1910.01526.pdf). Accompanying implementations in JAX, NumPy, PyTorch and TensorFlow can be found [here](https://github.com/aiwabdn/pygln)."
   ]
  },
  {
   "cell_type": "markdown",
   "metadata": {},
   "source": [
    "## What is a Gated Linear Network?\n",
    "\n",
    "A **Gated Linear Network (GLN)** is a collection of **data-dependent neurons**, arranged in a sequence of layers. Instead of predicting the target output only at the final layer, as is usually the case in deep learning, each neuron predicts the output directly, computes the error and updates its weights locally in an online fashion. In the following, we will explain the various components of a GLN in more detail. We will start off by describing how a **neuron** works.\n",
    "\n",
    "Imagine an expert who, given an input, is supposed to make a binary decision and report their prediction as a single probability value. This expert considers two types of data when making their decision: the input itself, and a set of prediction probabilities for the same decision from a panel of other experts. The expert then performs the following steps to arrive at their own decision:\n",
    "\n",
    "1. Conditioned on the input, choose one among a fixed set of decision rules which the expert maintains internally. In the paper, this process is implemented as **halfspace gating** and called the **context function**, since the input provides the \"context\" which determines how the decision is made. This context function is akin to locality-sensitive hashing, as similar inputs are supposed to map to the same decision rule.\n",
    "2. Use the chosen decision rule to combine the prediction probabilities of the panel of other experts. In the paper, each decision rule consists of a set of weights which are used to aggregate the panel probabilities via **geometric mixing**. So the expert effectively refines the decisions of the panel, relying more on some and assigning a lower weight to others, depending on the context, i.e. the input.\n",
    "3. By comparing their prediction with the expected output, the expert computes the difference between the two and adjusts the weights which have been used to arrive at this particular prediction, by shifting them slightly in the direction which encouraging the correct decision in the future.\n",
    "\n",
    "The following awesome stick figure sketch attempts to explain this:\n",
    "\n",
    "![Panel of experts view](_images/expert2.png)\n",
    "\n",
    "We can think of the layers in a GLN as panels of such experts. Each expert/neuron in a layer considers the previous layer as their panel of experts. Consequently, the prediction of the target output gets iteratively refined through the sequence of layers, until a last single-neuron layer makes the final decision which is taken as the network output. Different from typical deep neural networks, however, the output of each neuron is directly interpretable and updated locally, as opposed to globally via backpropagation through the entire network."
   ]
  },
  {
   "cell_type": "markdown",
   "metadata": {},
   "source": [
    "## Core concepts\n",
    "\n",
    "With that intuition in place, let us look at the main mathematical concepts under the hood of a neuron in more detail. Henceforth, we will refer to an \"expert\" as a **neuron** and to a \"panel\" as a **layer**."
   ]
  },
  {
   "cell_type": "markdown",
   "metadata": {},
   "source": [
    "### Halfspace gating\n",
    "\n",
    "We have seen how each neuron has its own **context function** which it uses to choose a decision rule conditioned on the input. Since the neuron should use the same decision rule for similar inputs, the context function should map regions of the input space to the same context. One way to do this is to maintain a memory of representative points and compute a similarity metric to determine which region another point belongs to. Another way, which is used here, is to divide the space into **halfspaces** and compute region membership based on which halfspace an input point belongs to.\n",
    "\n",
    "Let us consider a two-dimensional input space and an input point $(x_0, y_0)$. Any straight line divides the space into two halves, and our point lies either to the right (1) or left (0) of the line. So every line gives us a binary value indicating, very roughly, in which region of the input space our point is located.\n",
    "\n",
    "![](_images/context_function.png)\n",
    "\n",
    "We can consider the point's position relative to multiple lines and combine the binary results to form a binary string. In general, if we draw $n$ lines, we get a binary string of length $n$ with $2^n$ possible values, i.e., sub-regions. This operation forms the basis of how the **context function** computes context identifiers given an input point. A neuron interprets this binary string as number and uses it as index into an array of $2^n$ different set of weights, thus making a *data-dependent choice* of which linear function to apply.\n",
    "\n",
    "In the figure above, the context function consists of $3$ lines, shown in red, green and blue, which divide the space into $2^3 = 8$ regions, indexed by integers from $[0, 7]$. When passed through the context function, input $(x_0, y_0)$ produces the binary string `010`, i.e. index $2$, and point $(x_1, y_1)$ produces `110`, i.e. index $6$."
   ]
  },
  {
   "cell_type": "code",
   "execution_count": 8,
   "metadata": {
    "tags": []
   },
   "outputs": [
    {
     "name": "stdout",
     "output_type": "stream",
     "text": [
      "region indices in binary: \n",
      " [[1 0 0 0]\n",
      " [1 1 0 0]\n",
      " [0 0 1 0]]\n",
      "target weight indices determined from context function: \n",
      " [6 2 1 0]\n"
     ]
    }
   ],
   "source": [
    "import numpy as np\n",
    "\n",
    "num_samples = 4\n",
    "input_size = 784 # dimensionality of each point in the MNIST dataset\n",
    "context_map_size = 3 # length of binary string produced by context function\n",
    "context_maps = np.random.normal(size=(context_map_size, input_size)) # lines to partition the input space into regions\n",
    "boolean_converter = np.array([[2 ** i for i in range(context_map_size)[::-1]]]) # helper to convert binary output to index\n",
    "previous_layer_output_size = 4 # number of neurons in the previous layer\n",
    "weights = np.full(shape=(2**context_map_size, previous_layer_output_size), fill_value=1/previous_layer_output_size) # array of weights for the Neuron, initialised uniformly as suggested in the paper\n",
    "\n",
    "inputs = np.random.normal(size=(num_samples, input_size)) # random inputs, batch dimension first\n",
    "binary_region_indices = (np.matmul(context_maps, inputs.T) > 0).astype(np.int) # should be of shape (context_map_size, num_samples)\n",
    "weight_indices = boolean_converter.dot(binary_region_indices).flatten() # convert to integer index in [0..(2**context_map_size - 1)]\n",
    "selected_weights = weights[weight_indices] # weights chosen to be applied to the previous layer's outputs\n",
    "\n",
    "print('region indices in binary: \\n', binary_region_indices)\n",
    "print('target weight indices determined from context function: \\n', weight_indices)"
   ]
  },
  {
   "cell_type": "markdown",
   "metadata": {},
   "source": [
    "### Geometric Mixing\n",
    "\n",
    "A neuron takes the probabilistic predictions of the previous layer and combines them using the context-selected weights to produce a prediction of its own. This is implemented as **geometric mixing**, that is, a dot product of the weights and the prediction logits of the previous layer and subsequent sigmoid:\n",
    "\n",
    "$$\\sigma(w^\\mathbb{T} \\cdot \\sigma^{-1}(p)) = \\frac{\\prod_{i=1}^{d}p_i^{w_i}}{\\prod_{i=1}^{d}p_i^{w_i} + \\prod_{i=1}^{d}(1 - p_i)^{w_i}}$$\n",
    "\n",
    "Conceptually, this implements a kind of voting mechanism:\n",
    "\n",
    "- If all weights are $0$, i.e. no weight is given to any input, then the output is $0.5$.\n",
    "- If all weights have the uniform value $\\frac{1}{d}$ ($d$ being the number of neurons in the previous layer), i.e. equal weighting, then the output is the geometric mean of the predictions of the previous layer.\n",
    "- Moreover, **vetoing** is possible in the sense that if one neuron from the previous layer has predicted a probability close to $0$ and the weight assigned to that prediction is greater than $0$, then the output is pushed towards $0$.\n",
    "\n",
    "As the neuron sees more samples, it learns which of the predictions of the previous layer to pay more attention to. So in a sense a neuron behaves like an expert who, given a certain type of input, learns the best way to combine decisions from other experts to arrive at their own judgement. This also demonstrates the difference between a GLN and a normal neural network. Usually, the neurons of the intermediate layers of a neural network learn to combine \"features\" from the previous layers to produce a higher order \"feature\" value. However, the features themselves do not have any (extrinsic) semantic meaning or obvious interpretation. That is also why the weights of intermediate layers can only be updated via backpropagation after the final output has been computed, which has a clear interpretation and thus can be optimized. A neuron in a GLN, on the other hand, is directly predicting the output and can consequently learn immediately from its mistakes."
   ]
  },
  {
   "cell_type": "code",
   "execution_count": 9,
   "metadata": {},
   "outputs": [
    {
     "data": {
      "text/plain": [
       "array([[0.5721417 ],\n",
       "       [0.63578916],\n",
       "       [0.64458518],\n",
       "       [0.59182938]])"
      ]
     },
     "execution_count": 9,
     "metadata": {},
     "output_type": "execute_result"
    }
   ],
   "source": [
    "from scipy import special\n",
    "\n",
    "previous_layer_output = np.random.uniform(size=(num_samples, previous_layer_output_size)) # assuming random outputs in [0, 1] for each of the neurons in the previous layer\n",
    "logit = (selected_weights * previous_layer_output).sum(axis=-1, keepdims=True) # dot product\n",
    "output = special.expit(logit) # sigmoid\n",
    "output"
   ]
  },
  {
   "cell_type": "markdown",
   "metadata": {},
   "source": [
    "### Online Convex Programming\n",
    "\n",
    "Now that we know how a Neuron chooses weights based on data and uses them to mix the outputs of a previous layer of neurons to produce an output, let's see how it learns to update the weights in training."
   ]
  },
  {
   "cell_type": "code",
   "execution_count": 5,
   "metadata": {
    "tags": []
   },
   "outputs": [],
   "source": [
    "import matplotlib.pyplot as plt\n",
    "import seaborn as sns\n",
    "sns.set()\n",
    "\n",
    "import numpy as np\n",
    "def graph(formulae, x_range, points):  \n",
    "    x = np.array(x_range) \n",
    "    for formula in formulae:\n",
    "        y = eval(formula)\n",
    "        plt.plot(x, y)  \n",
    "    plt.xlim(0, 20)\n",
    "    plt.ylim(0, 20)\n",
    "    for idx, point in enumerate(points):\n",
    "        plt.plot(point[0], point[1], marker='^')\n",
    "        plt.annotate('(x{idx}, y{idx})'.format(idx=idx), point)\n",
    "    plt.axis('off')\n",
    "    plt.grid(True)\n",
    "    plt.savefig('_images/context_function.png')\n",
    "    plt.show()"
   ]
  },
  {
   "cell_type": "code",
   "execution_count": 6,
   "metadata": {},
   "outputs": [
    {
     "data": {
      "image/png": "[encoded data removed]",
      "text/plain": [
       "<Figure size 432x288 with 1 Axes>"
      ]
     },
     "metadata": {},
     "output_type": "display_data"
    }
   ],
   "source": [
    "graph([\"0.3*x + 4\", \"-1.1*x + 25\", '2*x - 6'], range(21), points=[(10, 10), (15, 15)])"
   ]
  },
  {
   "cell_type": "code",
   "execution_count": 7,
   "metadata": {
    "scrolled": true
   },
   "outputs": [
    {
     "data": {
      "image/png": "[encoded data removed]",
      "text/plain": [
       "<Figure size 432x288 with 1 Axes>"
      ]
     },
     "metadata": {},
     "output_type": "display_data"
    }
   ],
   "source": [
    "graph([\"0.3*x + 4\"], range(21), points=[(10, 10)])"
   ]
  },
  {
   "cell_type": "markdown",
   "metadata": {},
   "source": [
    "## Experimental results\n",
    "\n",
    "Next, we will go through some experimental results. We have benchmarked our GLN implementations on MNIST (more precisely, a [deskewed version](https://fsix.github.io/mnist/)), compared performance to a standard multi-layer perceptron (MLP), and performed detailed ablation experiments. We plan to add results for some of the other datasets and experiments of the original GLN paper (UCI dataset, MNIST density modeling, resilience to catastrophic forgetting) in the future."
   ]
  },
  {
   "cell_type": "markdown",
   "metadata": {},
   "source": [
    "### Setup and hyperparameters\n",
    "\n",
    "First, note that GLNs predict a binary output, so the 10-class MNIST classification task is modeled as 10 1-vs-all binary classifiers. Furthermore, we follow the paper in using the appropriately re-scaled image as base prediction input. Based on preliminary investigations, we chose a 16-16-1 architecture per class and otherwise use the [default hyperparameters in the repo](https://github.com/aiwabdn/pygln/blob/master/pygln/gln.py), apart from the target hyperparameter in ablation experiments. Unless explicitly specified, the PyTorch GLN implementation is used in all experiments. For the MLP baseline, also implemented in PyTorch, we chose a 64-10 architecture with tanh activation function and a learning rate of $2.5 \\cdot 10^{-4}$. Unless specified otherwise, the results are obtained after training for 1 epoch, and we use a batch size of 1 for both the GLN and the MLP baseline. Moreover, results are averaged over 10 runs, and in plots the shaded area indicates minimum and maximum performance across these 10 runs."
   ]
  },
  {
   "cell_type": "markdown",
   "metadata": {},
   "source": [
    "### Overall performance for different backends\n",
    "\n",
    "We observe an accuracy of $96.1\\%$ after a single pass over the training data, consistently across backends and on par with the MLP baseline. While this result is based on different hyperparameters, we weren't able to find hyperparameters to replicate the $98\\%$ accuracy reported in the paper. In terms of runtime, JAX is more than twice as fast, and PyTorch around 7 times as fast as the NumPy implementation. However, the PyTorch version still takes almost twice as long as the MLP baseline.\n",
    "\n",
    "**TENSORFLOW RUNTIME !!!**\n",
    "\n",
    "| Backend       | Accuracy | Runtime |\n",
    "|---------------|----------|---------|\n",
    "| JAX           | 96.1%    | 257 sec |\n",
    "| NumPy         | 96.1%    | 570 sec |\n",
    "| PyTorch       | 96.1%    | 85 sec  |\n",
    "| TensorFlow    | 96.1%    | 339 sec |\n",
    "| MLP (PyTorch) | 96.1%    | 48 sec  |"
   ]
  },
  {
   "cell_type": "markdown",
   "metadata": {},
   "source": [
    "### Performance during training\n",
    "\n",
    "![ablation-epoch](results/epoch.png)"
   ]
  },
  {
   "cell_type": "markdown",
   "metadata": {},
   "source": [
    "### Ablation: architecture size and depth\n",
    "\n",
    "![ablation-size](results/size.png)\n",
    "![ablation-depth](results/depth.png)"
   ]
  },
  {
   "cell_type": "code",
   "execution_count": null,
   "metadata": {},
   "outputs": [],
   "source": []
  },
  {
   "cell_type": "code",
   "execution_count": null,
   "metadata": {},
   "outputs": [],
   "source": []
  }
 ],
 "metadata": {
  "kernelspec": {
   "display_name": "Python 3",
   "language": "python",
   "name": "python3"
  },
  "language_info": {
   "codemirror_mode": {
    "name": "ipython",
    "version": 3
   },
   "file_extension": ".py",
   "mimetype": "text/x-python",
   "name": "python",
   "nbconvert_exporter": "python",
   "pygments_lexer": "ipython3",
   "version": "3.7.7"
  }
 },
 "nbformat": 4,
 "nbformat_minor": 2
}
