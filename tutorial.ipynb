{
 "cells": [
  {
   "cell_type": "markdown",
   "metadata": {},
   "source": [
    "# Gated Linear Networks\n",
    "## Implementations in NumPy, PyTorch, TensorFlow and JAX\n",
    "\n",
    "Python implementations of new family of neural networks from DeepMind's paper on [GLN](https://arxiv.org/pdf/1910.01526.pdf)\n",
    "\n",
    "## TL;DR\n",
    "\n",
    "We will look at the NumPy API. The other implementations have the same flow.\n",
    "\n",
    "To define a GLN and have it trained on MNIST data."
   ]
  },
  {
   "cell_type": "code",
   "execution_count": 1,
   "metadata": {},
   "outputs": [],
   "source": [
    "from gln_numpy import GLN\n",
    "\n",
    "model = GLN(layer_sizes=[4, 4, 1], input_size=784, context_size=784)"
   ]
  },
  {
   "cell_type": "markdown",
   "metadata": {},
   "source": [
    "Assuming one batch of random inputs like MNIST data"
   ]
  },
  {
   "cell_type": "code",
   "execution_count": 2,
   "metadata": {},
   "outputs": [],
   "source": [
    "import numpy as np\n",
    "\n",
    "train_X = np.random.normal(size=(784, 4))\n",
    "context_inputs = train_X\n",
    "train_Y = np.array([0, 1, 1, 0])"
   ]
  },
  {
   "cell_type": "markdown",
   "metadata": {},
   "source": [
    "we can train the GLN (predict and update) in one step with"
   ]
  },
  {
   "cell_type": "code",
   "execution_count": 3,
   "metadata": {},
   "outputs": [],
   "source": [
    "output = model.predict(inputs=train_X, context_inputs=context_inputs, targets=train_Y)"
   ]
  },
  {
   "cell_type": "markdown",
   "metadata": {},
   "source": [
    "To predict with the model, we just omit the `targets` parameter."
   ]
  },
  {
   "cell_type": "code",
   "execution_count": 4,
   "metadata": {
    "tags": []
   },
   "outputs": [
    {
     "output_type": "stream",
     "name": "stdout",
     "text": "[0.13668085 0.92979607 0.91990108 0.10906544]\n"
    }
   ],
   "source": [
    "pred = model.predict(inputs=train_X, context_inputs=context_inputs)\n",
    "print(pred)"
   ]
  },
  {
   "cell_type": "markdown",
   "metadata": {},
   "source": [
    "To check that the model is learning, we can pass the same batch a few times to see the outputs get better."
   ]
  },
  {
   "cell_type": "code",
   "execution_count": 5,
   "metadata": {
    "tags": []
   },
   "outputs": [
    {
     "output_type": "stream",
     "name": "stdout",
     "text": "After iteration 1 [0.13668085 0.92979607 0.91990108 0.10906544]\nAfter iteration 2 [0.1193458  0.93671518 0.92867751 0.09754806]\nAfter iteration 3 [0.10552609 0.94249631 0.93583505 0.08790868]\nAfter iteration 4 [0.09421555 0.94740545 0.94179999 0.07972696]\nAfter iteration 5 [0.08478159 0.95162827 0.94685394 0.07270384]\n"
    }
   ],
   "source": [
    "for i in range(5):\n",
    "    output = model.predict(inputs=train_X, context_inputs=context_inputs, targets=train_Y)\n",
    "    print('After iteration {}'.format(i+1), output)"
   ]
  },
  {
   "cell_type": "markdown",
   "metadata": {},
   "source": [
    "Some helper functions are provided in `test_mnist`. We can train a model on a particular MNIST class with one pass of the data. "
   ]
  },
  {
   "cell_type": "code",
   "execution_count": 6,
   "metadata": {
    "tags": []
   },
   "outputs": [
    {
     "output_type": "stream",
     "name": "stderr",
     "text": "100%|██████████| 7500/7500 [00:04<00:00, 1658.96it/s]\n100%|██████████| 1250/1250 [00:00<00:00, 4915.80it/s]\n\nAccuracy: 97.81\nConfusion matrix:\n        not_3  is_3\nnot_3   8945    45\nis_3     174   836\nPrec-Rec-F:\n                  not_3         is_3\nprecision     0.980919     0.948922\nrecall        0.994994     0.827723\nfscore        0.987907     0.884188\nsupport    8990.000000  1010.000000\n"
    }
   ],
   "source": [
    "from test_mnist import get_mnist_metrics\n",
    "\n",
    "model = GLN(layer_sizes=[4, 4, 1], input_size=784, context_size=784)\n",
    "acc, conf_mat, prfs = get_mnist_metrics(model, batch_size=8, mnist_class=3)\n",
    "print()\n",
    "print('Accuracy:', acc)\n",
    "print('Confusion matrix:\\n', conf_mat)\n",
    "print('Prec-Rec-F:\\n', prfs)"
   ]
  }
 ],
 "metadata": {
  "language_info": {
   "codemirror_mode": {
    "name": "ipython",
    "version": 3
   },
   "file_extension": ".py",
   "mimetype": "text/x-python",
   "name": "python",
   "nbconvert_exporter": "python",
   "pygments_lexer": "ipython3",
   "version": "3.8.2-final"
  },
  "orig_nbformat": 2,
  "kernelspec": {
   "name": "python38264bitscrabbleconda997c24ac097a4ece945246645d076769",
   "display_name": "Python 3.8.2 64-bit ('scrabble': conda)"
  }
 },
 "nbformat": 4,
 "nbformat_minor": 2
}